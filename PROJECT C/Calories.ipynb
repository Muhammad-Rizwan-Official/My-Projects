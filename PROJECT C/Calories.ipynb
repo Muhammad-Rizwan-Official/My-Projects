{
 "cells": [
  {
   "cell_type": "code",
   "execution_count": 2,
   "id": "57d3ccff",
   "metadata": {},
   "outputs": [],
   "source": [
    "import numpy as np\n",
    "import pandas as pd\n",
    "import matplotlib.pyplot as plt\n",
    "import seaborn as sns\n",
    "from sklearn.model_selection import train_test_split\n",
    "from sklearn import metrics\n",
    "from sklearn.linear_model import LinearRegression\n",
    "from sklearn.ensemble import RandomForestRegressor"
   ]
  },
  {
   "cell_type": "code",
   "execution_count": 3,
   "id": "da0c8c13",
   "metadata": {},
   "outputs": [
    {
     "data": {
      "text/html": [
       "<div>\n",
       "<style scoped>\n",
       "    .dataframe tbody tr th:only-of-type {\n",
       "        vertical-align: middle;\n",
       "    }\n",
       "\n",
       "    .dataframe tbody tr th {\n",
       "        vertical-align: top;\n",
       "    }\n",
       "\n",
       "    .dataframe thead th {\n",
       "        text-align: right;\n",
       "    }\n",
       "</style>\n",
       "<table border=\"1\" class=\"dataframe\">\n",
       "  <thead>\n",
       "    <tr style=\"text-align: right;\">\n",
       "      <th></th>\n",
       "      <th>Activity, Exercise or Sport (1 hour)</th>\n",
       "      <th>130 lb</th>\n",
       "      <th>155 lb</th>\n",
       "      <th>180 lb</th>\n",
       "      <th>205 lb</th>\n",
       "      <th>Calories per kg</th>\n",
       "    </tr>\n",
       "  </thead>\n",
       "  <tbody>\n",
       "    <tr>\n",
       "      <th>0</th>\n",
       "      <td>Cycling, mountain bike, bmx</td>\n",
       "      <td>502</td>\n",
       "      <td>598</td>\n",
       "      <td>695</td>\n",
       "      <td>791</td>\n",
       "      <td>1.750730</td>\n",
       "    </tr>\n",
       "    <tr>\n",
       "      <th>1</th>\n",
       "      <td>Cycling, &lt;10 mph, leisure bicycling</td>\n",
       "      <td>236</td>\n",
       "      <td>281</td>\n",
       "      <td>327</td>\n",
       "      <td>372</td>\n",
       "      <td>0.823236</td>\n",
       "    </tr>\n",
       "    <tr>\n",
       "      <th>2</th>\n",
       "      <td>Cycling, &gt;20 mph, racing</td>\n",
       "      <td>944</td>\n",
       "      <td>1126</td>\n",
       "      <td>1308</td>\n",
       "      <td>1489</td>\n",
       "      <td>3.294974</td>\n",
       "    </tr>\n",
       "    <tr>\n",
       "      <th>3</th>\n",
       "      <td>Cycling, 10-11.9 mph, light</td>\n",
       "      <td>354</td>\n",
       "      <td>422</td>\n",
       "      <td>490</td>\n",
       "      <td>558</td>\n",
       "      <td>1.234853</td>\n",
       "    </tr>\n",
       "    <tr>\n",
       "      <th>4</th>\n",
       "      <td>Cycling, 12-13.9 mph, moderate</td>\n",
       "      <td>472</td>\n",
       "      <td>563</td>\n",
       "      <td>654</td>\n",
       "      <td>745</td>\n",
       "      <td>1.647825</td>\n",
       "    </tr>\n",
       "    <tr>\n",
       "      <th>...</th>\n",
       "      <td>...</td>\n",
       "      <td>...</td>\n",
       "      <td>...</td>\n",
       "      <td>...</td>\n",
       "      <td>...</td>\n",
       "      <td>...</td>\n",
       "    </tr>\n",
       "    <tr>\n",
       "      <th>243</th>\n",
       "      <td>General cleaning</td>\n",
       "      <td>207</td>\n",
       "      <td>246</td>\n",
       "      <td>286</td>\n",
       "      <td>326</td>\n",
       "      <td>0.721008</td>\n",
       "    </tr>\n",
       "    <tr>\n",
       "      <th>244</th>\n",
       "      <td>Cleaning, dusting</td>\n",
       "      <td>148</td>\n",
       "      <td>176</td>\n",
       "      <td>204</td>\n",
       "      <td>233</td>\n",
       "      <td>0.515199</td>\n",
       "    </tr>\n",
       "    <tr>\n",
       "      <th>245</th>\n",
       "      <td>Taking out trash</td>\n",
       "      <td>177</td>\n",
       "      <td>211</td>\n",
       "      <td>245</td>\n",
       "      <td>279</td>\n",
       "      <td>0.617427</td>\n",
       "    </tr>\n",
       "    <tr>\n",
       "      <th>246</th>\n",
       "      <td>Walking, pushing a wheelchair</td>\n",
       "      <td>236</td>\n",
       "      <td>281</td>\n",
       "      <td>327</td>\n",
       "      <td>372</td>\n",
       "      <td>0.823236</td>\n",
       "    </tr>\n",
       "    <tr>\n",
       "      <th>247</th>\n",
       "      <td>Teach physical education,exercise class</td>\n",
       "      <td>236</td>\n",
       "      <td>281</td>\n",
       "      <td>327</td>\n",
       "      <td>372</td>\n",
       "      <td>0.823236</td>\n",
       "    </tr>\n",
       "  </tbody>\n",
       "</table>\n",
       "<p>248 rows × 6 columns</p>\n",
       "</div>"
      ],
      "text/plain": [
       "        Activity, Exercise or Sport (1 hour)  130 lb  155 lb  180 lb  205 lb  \\\n",
       "0                Cycling, mountain bike, bmx     502     598     695     791   \n",
       "1        Cycling, <10 mph, leisure bicycling     236     281     327     372   \n",
       "2                   Cycling, >20 mph, racing     944    1126    1308    1489   \n",
       "3                Cycling, 10-11.9 mph, light     354     422     490     558   \n",
       "4             Cycling, 12-13.9 mph, moderate     472     563     654     745   \n",
       "..                                       ...     ...     ...     ...     ...   \n",
       "243                         General cleaning     207     246     286     326   \n",
       "244                        Cleaning, dusting     148     176     204     233   \n",
       "245                         Taking out trash     177     211     245     279   \n",
       "246            Walking, pushing a wheelchair     236     281     327     372   \n",
       "247  Teach physical education,exercise class     236     281     327     372   \n",
       "\n",
       "     Calories per kg  \n",
       "0           1.750730  \n",
       "1           0.823236  \n",
       "2           3.294974  \n",
       "3           1.234853  \n",
       "4           1.647825  \n",
       "..               ...  \n",
       "243         0.721008  \n",
       "244         0.515199  \n",
       "245         0.617427  \n",
       "246         0.823236  \n",
       "247         0.823236  \n",
       "\n",
       "[248 rows x 6 columns]"
      ]
     },
     "execution_count": 3,
     "metadata": {},
     "output_type": "execute_result"
    }
   ],
   "source": [
    "col=pd.read_csv(\"exercise_dataset.csv\")\n",
    "col               "
   ]
  },
  {
   "cell_type": "code",
   "execution_count": 4,
   "id": "4be4c371",
   "metadata": {},
   "outputs": [
    {
     "data": {
      "text/html": [
       "<div>\n",
       "<style scoped>\n",
       "    .dataframe tbody tr th:only-of-type {\n",
       "        vertical-align: middle;\n",
       "    }\n",
       "\n",
       "    .dataframe tbody tr th {\n",
       "        vertical-align: top;\n",
       "    }\n",
       "\n",
       "    .dataframe thead th {\n",
       "        text-align: right;\n",
       "    }\n",
       "</style>\n",
       "<table border=\"1\" class=\"dataframe\">\n",
       "  <thead>\n",
       "    <tr style=\"text-align: right;\">\n",
       "      <th></th>\n",
       "      <th>Activity, Exercise or Sport (1 hour)</th>\n",
       "      <th>130 lb</th>\n",
       "      <th>155 lb</th>\n",
       "      <th>180 lb</th>\n",
       "      <th>205 lb</th>\n",
       "      <th>Calories per kg</th>\n",
       "    </tr>\n",
       "  </thead>\n",
       "  <tbody>\n",
       "    <tr>\n",
       "      <th>0</th>\n",
       "      <td>Cycling, mountain bike, bmx</td>\n",
       "      <td>502</td>\n",
       "      <td>598</td>\n",
       "      <td>695</td>\n",
       "      <td>791</td>\n",
       "      <td>1.750730</td>\n",
       "    </tr>\n",
       "    <tr>\n",
       "      <th>1</th>\n",
       "      <td>Cycling, &lt;10 mph, leisure bicycling</td>\n",
       "      <td>236</td>\n",
       "      <td>281</td>\n",
       "      <td>327</td>\n",
       "      <td>372</td>\n",
       "      <td>0.823236</td>\n",
       "    </tr>\n",
       "    <tr>\n",
       "      <th>2</th>\n",
       "      <td>Cycling, &gt;20 mph, racing</td>\n",
       "      <td>944</td>\n",
       "      <td>1126</td>\n",
       "      <td>1308</td>\n",
       "      <td>1489</td>\n",
       "      <td>3.294974</td>\n",
       "    </tr>\n",
       "    <tr>\n",
       "      <th>3</th>\n",
       "      <td>Cycling, 10-11.9 mph, light</td>\n",
       "      <td>354</td>\n",
       "      <td>422</td>\n",
       "      <td>490</td>\n",
       "      <td>558</td>\n",
       "      <td>1.234853</td>\n",
       "    </tr>\n",
       "    <tr>\n",
       "      <th>4</th>\n",
       "      <td>Cycling, 12-13.9 mph, moderate</td>\n",
       "      <td>472</td>\n",
       "      <td>563</td>\n",
       "      <td>654</td>\n",
       "      <td>745</td>\n",
       "      <td>1.647825</td>\n",
       "    </tr>\n",
       "  </tbody>\n",
       "</table>\n",
       "</div>"
      ],
      "text/plain": [
       "  Activity, Exercise or Sport (1 hour)  130 lb  155 lb  180 lb  205 lb  \\\n",
       "0          Cycling, mountain bike, bmx     502     598     695     791   \n",
       "1  Cycling, <10 mph, leisure bicycling     236     281     327     372   \n",
       "2             Cycling, >20 mph, racing     944    1126    1308    1489   \n",
       "3          Cycling, 10-11.9 mph, light     354     422     490     558   \n",
       "4       Cycling, 12-13.9 mph, moderate     472     563     654     745   \n",
       "\n",
       "   Calories per kg  \n",
       "0         1.750730  \n",
       "1         0.823236  \n",
       "2         3.294974  \n",
       "3         1.234853  \n",
       "4         1.647825  "
      ]
     },
     "execution_count": 4,
     "metadata": {},
     "output_type": "execute_result"
    }
   ],
   "source": [
    "col.head()"
   ]
  },
  {
   "cell_type": "code",
   "execution_count": 5,
   "id": "0c69b94b",
   "metadata": {},
   "outputs": [
    {
     "data": {
      "text/html": [
       "<div>\n",
       "<style scoped>\n",
       "    .dataframe tbody tr th:only-of-type {\n",
       "        vertical-align: middle;\n",
       "    }\n",
       "\n",
       "    .dataframe tbody tr th {\n",
       "        vertical-align: top;\n",
       "    }\n",
       "\n",
       "    .dataframe thead th {\n",
       "        text-align: right;\n",
       "    }\n",
       "</style>\n",
       "<table border=\"1\" class=\"dataframe\">\n",
       "  <thead>\n",
       "    <tr style=\"text-align: right;\">\n",
       "      <th></th>\n",
       "      <th>Activity, Exercise or Sport (1 hour)</th>\n",
       "      <th>130 lb</th>\n",
       "      <th>155 lb</th>\n",
       "      <th>180 lb</th>\n",
       "      <th>205 lb</th>\n",
       "      <th>Calories per kg</th>\n",
       "    </tr>\n",
       "  </thead>\n",
       "  <tbody>\n",
       "    <tr>\n",
       "      <th>243</th>\n",
       "      <td>General cleaning</td>\n",
       "      <td>207</td>\n",
       "      <td>246</td>\n",
       "      <td>286</td>\n",
       "      <td>326</td>\n",
       "      <td>0.721008</td>\n",
       "    </tr>\n",
       "    <tr>\n",
       "      <th>244</th>\n",
       "      <td>Cleaning, dusting</td>\n",
       "      <td>148</td>\n",
       "      <td>176</td>\n",
       "      <td>204</td>\n",
       "      <td>233</td>\n",
       "      <td>0.515199</td>\n",
       "    </tr>\n",
       "    <tr>\n",
       "      <th>245</th>\n",
       "      <td>Taking out trash</td>\n",
       "      <td>177</td>\n",
       "      <td>211</td>\n",
       "      <td>245</td>\n",
       "      <td>279</td>\n",
       "      <td>0.617427</td>\n",
       "    </tr>\n",
       "    <tr>\n",
       "      <th>246</th>\n",
       "      <td>Walking, pushing a wheelchair</td>\n",
       "      <td>236</td>\n",
       "      <td>281</td>\n",
       "      <td>327</td>\n",
       "      <td>372</td>\n",
       "      <td>0.823236</td>\n",
       "    </tr>\n",
       "    <tr>\n",
       "      <th>247</th>\n",
       "      <td>Teach physical education,exercise class</td>\n",
       "      <td>236</td>\n",
       "      <td>281</td>\n",
       "      <td>327</td>\n",
       "      <td>372</td>\n",
       "      <td>0.823236</td>\n",
       "    </tr>\n",
       "  </tbody>\n",
       "</table>\n",
       "</div>"
      ],
      "text/plain": [
       "        Activity, Exercise or Sport (1 hour)  130 lb  155 lb  180 lb  205 lb  \\\n",
       "243                         General cleaning     207     246     286     326   \n",
       "244                        Cleaning, dusting     148     176     204     233   \n",
       "245                         Taking out trash     177     211     245     279   \n",
       "246            Walking, pushing a wheelchair     236     281     327     372   \n",
       "247  Teach physical education,exercise class     236     281     327     372   \n",
       "\n",
       "     Calories per kg  \n",
       "243         0.721008  \n",
       "244         0.515199  \n",
       "245         0.617427  \n",
       "246         0.823236  \n",
       "247         0.823236  "
      ]
     },
     "execution_count": 5,
     "metadata": {},
     "output_type": "execute_result"
    }
   ],
   "source": [
    "col.tail()"
   ]
  },
  {
   "cell_type": "code",
   "execution_count": 6,
   "id": "2485550f",
   "metadata": {},
   "outputs": [
    {
     "name": "stdout",
     "output_type": "stream",
     "text": [
      "<class 'pandas.core.frame.DataFrame'>\n",
      "RangeIndex: 248 entries, 0 to 247\n",
      "Data columns (total 6 columns):\n",
      " #   Column                                Non-Null Count  Dtype  \n",
      "---  ------                                --------------  -----  \n",
      " 0   Activity, Exercise or Sport (1 hour)  248 non-null    object \n",
      " 1   130 lb                                248 non-null    int64  \n",
      " 2   155 lb                                248 non-null    int64  \n",
      " 3   180 lb                                248 non-null    int64  \n",
      " 4   205 lb                                248 non-null    int64  \n",
      " 5   Calories per kg                       248 non-null    float64\n",
      "dtypes: float64(1), int64(4), object(1)\n",
      "memory usage: 11.8+ KB\n"
     ]
    }
   ],
   "source": [
    "col.info()"
   ]
  },
  {
   "cell_type": "code",
   "execution_count": 7,
   "id": "ef92ea74",
   "metadata": {},
   "outputs": [
    {
     "data": {
      "text/plain": [
       "(248, 6)"
      ]
     },
     "execution_count": 7,
     "metadata": {},
     "output_type": "execute_result"
    }
   ],
   "source": [
    "col.shape"
   ]
  },
  {
   "cell_type": "code",
   "execution_count": 8,
   "id": "87e0d4c6",
   "metadata": {},
   "outputs": [
    {
     "data": {
      "text/html": [
       "<div>\n",
       "<style scoped>\n",
       "    .dataframe tbody tr th:only-of-type {\n",
       "        vertical-align: middle;\n",
       "    }\n",
       "\n",
       "    .dataframe tbody tr th {\n",
       "        vertical-align: top;\n",
       "    }\n",
       "\n",
       "    .dataframe thead th {\n",
       "        text-align: right;\n",
       "    }\n",
       "</style>\n",
       "<table border=\"1\" class=\"dataframe\">\n",
       "  <thead>\n",
       "    <tr style=\"text-align: right;\">\n",
       "      <th></th>\n",
       "      <th>130 lb</th>\n",
       "      <th>155 lb</th>\n",
       "      <th>180 lb</th>\n",
       "      <th>205 lb</th>\n",
       "      <th>Calories per kg</th>\n",
       "    </tr>\n",
       "  </thead>\n",
       "  <tbody>\n",
       "    <tr>\n",
       "      <th>count</th>\n",
       "      <td>248.000000</td>\n",
       "      <td>248.000000</td>\n",
       "      <td>248.000000</td>\n",
       "      <td>248.000000</td>\n",
       "      <td>248.000000</td>\n",
       "    </tr>\n",
       "    <tr>\n",
       "      <th>mean</th>\n",
       "      <td>389.754032</td>\n",
       "      <td>464.689516</td>\n",
       "      <td>539.685484</td>\n",
       "      <td>614.620968</td>\n",
       "      <td>1.359930</td>\n",
       "    </tr>\n",
       "    <tr>\n",
       "      <th>std</th>\n",
       "      <td>194.434028</td>\n",
       "      <td>232.019135</td>\n",
       "      <td>269.430029</td>\n",
       "      <td>306.847470</td>\n",
       "      <td>0.678851</td>\n",
       "    </tr>\n",
       "    <tr>\n",
       "      <th>min</th>\n",
       "      <td>89.000000</td>\n",
       "      <td>106.000000</td>\n",
       "      <td>123.000000</td>\n",
       "      <td>140.000000</td>\n",
       "      <td>0.310067</td>\n",
       "    </tr>\n",
       "    <tr>\n",
       "      <th>25%</th>\n",
       "      <td>236.000000</td>\n",
       "      <td>281.000000</td>\n",
       "      <td>327.000000</td>\n",
       "      <td>372.000000</td>\n",
       "      <td>0.823236</td>\n",
       "    </tr>\n",
       "    <tr>\n",
       "      <th>50%</th>\n",
       "      <td>354.000000</td>\n",
       "      <td>422.000000</td>\n",
       "      <td>490.000000</td>\n",
       "      <td>558.000000</td>\n",
       "      <td>1.234853</td>\n",
       "    </tr>\n",
       "    <tr>\n",
       "      <th>75%</th>\n",
       "      <td>472.000000</td>\n",
       "      <td>563.000000</td>\n",
       "      <td>654.000000</td>\n",
       "      <td>745.000000</td>\n",
       "      <td>1.647825</td>\n",
       "    </tr>\n",
       "    <tr>\n",
       "      <th>max</th>\n",
       "      <td>1062.000000</td>\n",
       "      <td>1267.000000</td>\n",
       "      <td>1471.000000</td>\n",
       "      <td>1675.000000</td>\n",
       "      <td>3.706591</td>\n",
       "    </tr>\n",
       "  </tbody>\n",
       "</table>\n",
       "</div>"
      ],
      "text/plain": [
       "            130 lb       155 lb       180 lb       205 lb  Calories per kg\n",
       "count   248.000000   248.000000   248.000000   248.000000       248.000000\n",
       "mean    389.754032   464.689516   539.685484   614.620968         1.359930\n",
       "std     194.434028   232.019135   269.430029   306.847470         0.678851\n",
       "min      89.000000   106.000000   123.000000   140.000000         0.310067\n",
       "25%     236.000000   281.000000   327.000000   372.000000         0.823236\n",
       "50%     354.000000   422.000000   490.000000   558.000000         1.234853\n",
       "75%     472.000000   563.000000   654.000000   745.000000         1.647825\n",
       "max    1062.000000  1267.000000  1471.000000  1675.000000         3.706591"
      ]
     },
     "execution_count": 8,
     "metadata": {},
     "output_type": "execute_result"
    }
   ],
   "source": [
    "col.describe()"
   ]
  },
  {
   "cell_type": "code",
   "execution_count": 9,
   "id": "6ce40f47",
   "metadata": {},
   "outputs": [
    {
     "data": {
      "text/plain": [
       "Activity, Exercise or Sport (1 hour)    0\n",
       "130 lb                                  0\n",
       "155 lb                                  0\n",
       "180 lb                                  0\n",
       "205 lb                                  0\n",
       "Calories per kg                         0\n",
       "dtype: int64"
      ]
     },
     "execution_count": 9,
     "metadata": {},
     "output_type": "execute_result"
    }
   ],
   "source": [
    "col.isnull().sum()"
   ]
  },
  {
   "cell_type": "code",
   "execution_count": 12,
   "id": "f3f177a1",
   "metadata": {},
   "outputs": [
    {
     "data": {
      "text/plain": [
       "<AxesSubplot:xlabel='130 lb', ylabel='Count'>"
      ]
     },
     "execution_count": 12,
     "metadata": {},
     "output_type": "execute_result"
    },
    {
     "data": {
      "image/png": "[encoded data removed]",
      "text/plain": [
       "<Figure size 640x480 with 1 Axes>"
      ]
     },
     "metadata": {},
     "output_type": "display_data"
    }
   ],
   "source": [
    "sns.histplot(x='130 lb',data=col)"
   ]
  },
  {
   "cell_type": "code",
   "execution_count": 13,
   "id": "ebea9bca",
   "metadata": {},
   "outputs": [
    {
     "data": {
      "text/plain": [
       "0      1.750730\n",
       "1      0.823236\n",
       "2      3.294974\n",
       "3      1.234853\n",
       "4      1.647825\n",
       "         ...   \n",
       "243    0.721008\n",
       "244    0.515199\n",
       "245    0.617427\n",
       "246    0.823236\n",
       "247    0.823236\n",
       "Name: Calories per kg, Length: 248, dtype: float64"
      ]
     },
     "execution_count": 13,
     "metadata": {},
     "output_type": "execute_result"
    }
   ],
   "source": [
    "y=col['Calories per kg']\n",
    "y"
   ]
  },
  {
   "cell_type": "code",
   "execution_count": 16,
   "id": "1e05ee53",
   "metadata": {},
   "outputs": [
    {
     "data": {
      "text/html": [
       "<div>\n",
       "<style scoped>\n",
       "    .dataframe tbody tr th:only-of-type {\n",
       "        vertical-align: middle;\n",
       "    }\n",
       "\n",
       "    .dataframe tbody tr th {\n",
       "        vertical-align: top;\n",
       "    }\n",
       "\n",
       "    .dataframe thead th {\n",
       "        text-align: right;\n",
       "    }\n",
       "</style>\n",
       "<table border=\"1\" class=\"dataframe\">\n",
       "  <thead>\n",
       "    <tr style=\"text-align: right;\">\n",
       "      <th></th>\n",
       "      <th>130 lb</th>\n",
       "      <th>155 lb</th>\n",
       "      <th>180 lb</th>\n",
       "      <th>205 lb</th>\n",
       "    </tr>\n",
       "  </thead>\n",
       "  <tbody>\n",
       "    <tr>\n",
       "      <th>0</th>\n",
       "      <td>502</td>\n",
       "      <td>598</td>\n",
       "      <td>695</td>\n",
       "      <td>791</td>\n",
       "    </tr>\n",
       "    <tr>\n",
       "      <th>1</th>\n",
       "      <td>236</td>\n",
       "      <td>281</td>\n",
       "      <td>327</td>\n",
       "      <td>372</td>\n",
       "    </tr>\n",
       "    <tr>\n",
       "      <th>2</th>\n",
       "      <td>944</td>\n",
       "      <td>1126</td>\n",
       "      <td>1308</td>\n",
       "      <td>1489</td>\n",
       "    </tr>\n",
       "    <tr>\n",
       "      <th>3</th>\n",
       "      <td>354</td>\n",
       "      <td>422</td>\n",
       "      <td>490</td>\n",
       "      <td>558</td>\n",
       "    </tr>\n",
       "    <tr>\n",
       "      <th>4</th>\n",
       "      <td>472</td>\n",
       "      <td>563</td>\n",
       "      <td>654</td>\n",
       "      <td>745</td>\n",
       "    </tr>\n",
       "    <tr>\n",
       "      <th>...</th>\n",
       "      <td>...</td>\n",
       "      <td>...</td>\n",
       "      <td>...</td>\n",
       "      <td>...</td>\n",
       "    </tr>\n",
       "    <tr>\n",
       "      <th>243</th>\n",
       "      <td>207</td>\n",
       "      <td>246</td>\n",
       "      <td>286</td>\n",
       "      <td>326</td>\n",
       "    </tr>\n",
       "    <tr>\n",
       "      <th>244</th>\n",
       "      <td>148</td>\n",
       "      <td>176</td>\n",
       "      <td>204</td>\n",
       "      <td>233</td>\n",
       "    </tr>\n",
       "    <tr>\n",
       "      <th>245</th>\n",
       "      <td>177</td>\n",
       "      <td>211</td>\n",
       "      <td>245</td>\n",
       "      <td>279</td>\n",
       "    </tr>\n",
       "    <tr>\n",
       "      <th>246</th>\n",
       "      <td>236</td>\n",
       "      <td>281</td>\n",
       "      <td>327</td>\n",
       "      <td>372</td>\n",
       "    </tr>\n",
       "    <tr>\n",
       "      <th>247</th>\n",
       "      <td>236</td>\n",
       "      <td>281</td>\n",
       "      <td>327</td>\n",
       "      <td>372</td>\n",
       "    </tr>\n",
       "  </tbody>\n",
       "</table>\n",
       "<p>248 rows × 4 columns</p>\n",
       "</div>"
      ],
      "text/plain": [
       "     130 lb  155 lb  180 lb  205 lb\n",
       "0       502     598     695     791\n",
       "1       236     281     327     372\n",
       "2       944    1126    1308    1489\n",
       "3       354     422     490     558\n",
       "4       472     563     654     745\n",
       "..      ...     ...     ...     ...\n",
       "243     207     246     286     326\n",
       "244     148     176     204     233\n",
       "245     177     211     245     279\n",
       "246     236     281     327     372\n",
       "247     236     281     327     372\n",
       "\n",
       "[248 rows x 4 columns]"
      ]
     },
     "execution_count": 16,
     "metadata": {},
     "output_type": "execute_result"
    }
   ],
   "source": [
    "x=col.drop(['Calories per kg','Activity, Exercise or Sport (1 hour)'],axis=1)\n",
    "x"
   ]
  },
  {
   "cell_type": "code",
   "execution_count": 17,
   "id": "a6d61b28",
   "metadata": {},
   "outputs": [],
   "source": [
    "X_train,X_test,y_train,y_test=train_test_split(x,y,test_size=0.1,random_state=1)"
   ]
  },
  {
   "cell_type": "code",
   "execution_count": 18,
   "id": "115f83f0",
   "metadata": {},
   "outputs": [
    {
     "data": {
      "text/plain": [
       "((248, 4), (223, 4), (25, 4))"
      ]
     },
     "execution_count": 18,
     "metadata": {},
     "output_type": "execute_result"
    }
   ],
   "source": [
    "x.shape,X_train.shape,X_test.shape"
   ]
  },
  {
   "cell_type": "code",
   "execution_count": 19,
   "id": "033eecb9",
   "metadata": {},
   "outputs": [],
   "source": [
    "linear=LinearRegression()"
   ]
  },
  {
   "cell_type": "code",
   "execution_count": 20,
   "id": "0da44e9a",
   "metadata": {},
   "outputs": [
    {
     "name": "stdout",
     "output_type": "stream",
     "text": [
      "accuracy score of trained data: 1.0\n",
      "accuracy score of test data: 1.0\n"
     ]
    }
   ],
   "source": [
    "linear.fit(X_train,y_train)\n",
    "X_train_pred=linear.predict(X_train)\n",
    "score=metrics.r2_score(y_train,X_train_pred)\n",
    "print('accuracy score of trained data:',score)\n",
    "\n",
    "linear.fit(X_test,y_test)\n",
    "X_test_pred=linear.predict(X_test)\n",
    "score=metrics.r2_score(y_test,X_test_pred)\n",
    "print('accuracy score of test data:',score)"
   ]
  },
  {
   "cell_type": "code",
   "execution_count": 21,
   "id": "139cf537",
   "metadata": {},
   "outputs": [],
   "source": [
    "forest=RandomForestRegressor()"
   ]
  },
  {
   "cell_type": "code",
   "execution_count": 22,
   "id": "47d3a3f9",
   "metadata": {},
   "outputs": [
    {
     "name": "stdout",
     "output_type": "stream",
     "text": [
      "accuracy score of trained data: 0.9997966237823556\n",
      "accuracy score of test data: 0.9859971535576976\n"
     ]
    }
   ],
   "source": [
    "forest.fit(X_train,y_train)\n",
    "X_train_pred=forest.predict(X_train)\n",
    "score=metrics.r2_score(y_train,X_train_pred)\n",
    "print('accuracy score of trained data:',score)\n",
    "\n",
    "forest.fit(X_test,y_test)\n",
    "X_test_pred=forest.predict(X_test)\n",
    "score=metrics.r2_score(y_test,X_test_pred)\n",
    "print('accuracy score of test data:',score)"
   ]
  },
  {
   "cell_type": "code",
   "execution_count": 25,
   "id": "e9f9ad88",
   "metadata": {},
   "outputs": [
    {
     "name": "stderr",
     "output_type": "stream",
     "text": [
      "C:\\Users\\HP\\anaconda3\\lib\\site-packages\\sklearn\\base.py:450: UserWarning: X does not have valid feature names, but LinearRegression was fitted with feature names\n",
      "  warnings.warn(\n"
     ]
    },
    {
     "data": {
      "text/plain": [
       "array([1.64782527])"
      ]
     },
     "execution_count": 25,
     "metadata": {},
     "output_type": "execute_result"
    }
   ],
   "source": [
    "input_data=(472,563,654,745)\n",
    "input_as_np=np.asarray(input_data)\n",
    "reshaped=input_as_np.reshape(1,-1)\n",
    "prediction=linear.predict(reshaped)\n",
    "prediction"
   ]
  },
  {
   "cell_type": "code",
   "execution_count": 26,
   "id": "124bb580",
   "metadata": {},
   "outputs": [
    {
     "name": "stdout",
     "output_type": "stream",
     "text": [
      "The Calories burnt are  1.6478252656716401\n"
     ]
    }
   ],
   "source": [
    "print('The Calories burnt are ',prediction[0])"
   ]
  },
  {
   "cell_type": "code",
   "execution_count": null,
   "id": "2ade1100",
   "metadata": {},
   "outputs": [],
   "source": []
  }
 ],
 "metadata": {
  "kernelspec": {
   "display_name": "Python 3 (ipykernel)",
   "language": "python",
   "name": "python3"
  },
  "language_info": {
   "codemirror_mode": {
    "name": "ipython",
    "version": 3
   },
   "file_extension": ".py",
   "mimetype": "text/x-python",
   "name": "python",
   "nbconvert_exporter": "python",
   "pygments_lexer": "ipython3",
   "version": "3.9.13"
  }
 },
 "nbformat": 4,
 "nbformat_minor": 5
}
